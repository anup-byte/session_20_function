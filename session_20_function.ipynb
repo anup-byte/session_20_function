{
 "cells": [
  {
   "cell_type": "code",
   "execution_count": null,
   "id": "fb519924",
   "metadata": {},
   "outputs": [],
   "source": [
    "https://youtu.be/peOcV7Tgk0o #Link for youtube video of this sheet"
   ]
  },
  {
   "cell_type": "code",
   "execution_count": null,
   "id": "f83cc959",
   "metadata": {},
   "outputs": [],
   "source": [
    "#function\n",
    "# function is a group of related statements that perform some specific task\n",
    "#It avoids repitation and makes our code reusable\n",
    "#Function help break our program into smaller and modular chunks"
   ]
  },
  {
   "cell_type": "code",
   "execution_count": null,
   "id": "d4ac11b2",
   "metadata": {},
   "outputs": [],
   "source": [
    "#Syntax:\n",
    "\n",
    "def function_name(parameters/argument):\n",
    "    \n",
    "    '''\n",
    "    Doc String\n",
    "    \n",
    "    '''\n",
    "    body of the function\n",
    "    \n",
    "    return "
   ]
  },
  {
   "cell_type": "code",
   "execution_count": 1,
   "id": "a1784778",
   "metadata": {},
   "outputs": [],
   "source": [
    "def function_name():\n",
    "    # function body starts \n",
    "    \n",
    "    pass\n",
    "    \n",
    "    # function body ends\n",
    "    \n",
    "#call function in the code    "
   ]
  },
  {
   "cell_type": "code",
   "execution_count": 2,
   "id": "50706d73",
   "metadata": {},
   "outputs": [],
   "source": [
    "function_name()"
   ]
  },
  {
   "cell_type": "code",
   "execution_count": 3,
   "id": "ff277e27",
   "metadata": {},
   "outputs": [
    {
     "ename": "SyntaxError",
     "evalue": "incomplete input (2221083814.py, line 8)",
     "output_type": "error",
     "traceback": [
      "\u001b[0;36m  Cell \u001b[0;32mIn[3], line 8\u001b[0;36m\u001b[0m\n\u001b[0;31m    #call function in the code\u001b[0m\n\u001b[0m                                  ^\u001b[0m\n\u001b[0;31mSyntaxError\u001b[0m\u001b[0;31m:\u001b[0m incomplete input\n"
     ]
    }
   ],
   "source": [
    "def function_name():\n",
    "    # function body starts \n",
    "    \n",
    "    \n",
    "    \n",
    "    # function body ends\n",
    "    \n",
    "#call function in the code    "
   ]
  },
  {
   "cell_type": "code",
   "execution_count": 4,
   "id": "2aa597ee",
   "metadata": {},
   "outputs": [],
   "source": [
    "def anup():\n",
    "    print(\"My name is Anup. I love dancing\")    "
   ]
  },
  {
   "cell_type": "code",
   "execution_count": 5,
   "id": "b98769f9",
   "metadata": {},
   "outputs": [
    {
     "name": "stdout",
     "output_type": "stream",
     "text": [
      "My name is Anup. I love dancing\n"
     ]
    }
   ],
   "source": [
    "anup()"
   ]
  },
  {
   "cell_type": "code",
   "execution_count": 13,
   "id": "1dea85ef",
   "metadata": {},
   "outputs": [],
   "source": [
    "def print_name(name):\n",
    "    \"\"\"\n",
    "    This function prints the name\n",
    "    \n",
    "    \"\"\"\n",
    "    print('Hello ' + name)\n",
    "    "
   ]
  },
  {
   "cell_type": "code",
   "execution_count": 18,
   "id": "aaaad02e",
   "metadata": {},
   "outputs": [
    {
     "ename": "TypeError",
     "evalue": "can only concatenate str (not \"int\") to str",
     "output_type": "error",
     "traceback": [
      "\u001b[0;31m---------------------------------------------------------------------------\u001b[0m",
      "\u001b[0;31mTypeError\u001b[0m                                 Traceback (most recent call last)",
      "Cell \u001b[0;32mIn[18], line 1\u001b[0m\n\u001b[0;32m----> 1\u001b[0m print_name(\u001b[38;5;241m1234\u001b[39m)\n",
      "Cell \u001b[0;32mIn[13], line 6\u001b[0m, in \u001b[0;36mprint_name\u001b[0;34m(name)\u001b[0m\n\u001b[1;32m      1\u001b[0m \u001b[38;5;28;01mdef\u001b[39;00m \u001b[38;5;21mprint_name\u001b[39m(name):\n\u001b[1;32m      2\u001b[0m \u001b[38;5;250m    \u001b[39m\u001b[38;5;124;03m\"\"\"\u001b[39;00m\n\u001b[1;32m      3\u001b[0m \u001b[38;5;124;03m    This function prints the name\u001b[39;00m\n\u001b[1;32m      4\u001b[0m \u001b[38;5;124;03m    \u001b[39;00m\n\u001b[1;32m      5\u001b[0m \u001b[38;5;124;03m    \"\"\"\u001b[39;00m\n\u001b[0;32m----> 6\u001b[0m     \u001b[38;5;28mprint\u001b[39m(\u001b[38;5;124m'\u001b[39m\u001b[38;5;124mHello \u001b[39m\u001b[38;5;124m'\u001b[39m \u001b[38;5;241m+\u001b[39m name)\n",
      "\u001b[0;31mTypeError\u001b[0m: can only concatenate str (not \"int\") to str"
     ]
    }
   ],
   "source": [
    "print_name(1234)"
   ]
  },
  {
   "cell_type": "code",
   "execution_count": 15,
   "id": "6660ab92",
   "metadata": {},
   "outputs": [
    {
     "name": "stdout",
     "output_type": "stream",
     "text": [
      "Hello ruchi\n"
     ]
    }
   ],
   "source": [
    "print_name('ruchi')"
   ]
  },
  {
   "cell_type": "code",
   "execution_count": 17,
   "id": "98a5ce2d",
   "metadata": {},
   "outputs": [
    {
     "name": "stdout",
     "output_type": "stream",
     "text": [
      "Hello shanker\n"
     ]
    }
   ],
   "source": [
    "print_name(\"shanker\")"
   ]
  },
  {
   "cell_type": "code",
   "execution_count": 19,
   "id": "bcc14625",
   "metadata": {},
   "outputs": [],
   "source": [
    "def print_name(name):\n",
    "    \"\"\"\n",
    "    This function prints the name\n",
    "    \n",
    "    \"\"\"\n",
    "    print('Hello ' + str(name))"
   ]
  },
  {
   "cell_type": "code",
   "execution_count": 22,
   "id": "be459fac",
   "metadata": {},
   "outputs": [
    {
     "name": "stdout",
     "output_type": "stream",
     "text": [
      "Hello 5678\n"
     ]
    }
   ],
   "source": [
    "print_name(5678)"
   ]
  },
  {
   "cell_type": "code",
   "execution_count": 23,
   "id": "d4f4f577",
   "metadata": {},
   "outputs": [
    {
     "name": "stdout",
     "output_type": "stream",
     "text": [
      "\n",
      "    This function prints the name\n",
      "    \n",
      "    \n"
     ]
    }
   ],
   "source": [
    "print(print_name.__doc__) # print doc string of the function"
   ]
  },
  {
   "cell_type": "code",
   "execution_count": 24,
   "id": "dfe920c7",
   "metadata": {},
   "outputs": [
    {
     "name": "stdout",
     "output_type": "stream",
     "text": [
      "You have BIKE: True\n",
      "You have CAR: True\n",
      "You can travel 100 KMs: True\n",
      "\n"
     ]
    }
   ],
   "source": [
    "# Block One\n",
    "BIKE = True\n",
    "CAR = True\n",
    "TRAVEL_100_KM = BIKE or CAR\n",
    "\n",
    "print(f\"You have BIKE: {BIKE}\")\n",
    "print(f\"You have CAR: {CAR}\")\n",
    "print(f\"You can travel 100 KMs: {TRAVEL_100_KM}\\n\")"
   ]
  },
  {
   "cell_type": "code",
   "execution_count": 25,
   "id": "a19d95ba",
   "metadata": {},
   "outputs": [
    {
     "name": "stdout",
     "output_type": "stream",
     "text": [
      "You have BIKE: True\n",
      "You have CAR: False\n",
      "You can travel 100 KMs: True\n",
      "\n"
     ]
    }
   ],
   "source": [
    "# Block Two\n",
    "BIKE = True\n",
    "CAR = False\n",
    "TRAVEL_100_KM = BIKE or CAR\n",
    "\n",
    "print(f\"You have BIKE: {BIKE}\")\n",
    "print(f\"You have CAR: {CAR}\")\n",
    "print(f\"You can travel 100 KMs: {TRAVEL_100_KM}\\n\")"
   ]
  },
  {
   "cell_type": "code",
   "execution_count": 26,
   "id": "014eae39",
   "metadata": {},
   "outputs": [
    {
     "name": "stdout",
     "output_type": "stream",
     "text": [
      "You have BIKE: False\n",
      "You have CAR: True\n",
      "You can travel 100 KMs: True\n",
      "\n"
     ]
    }
   ],
   "source": [
    "# Block Three\n",
    "BIKE = False\n",
    "CAR = True\n",
    "TRAVEL_100_KM = BIKE or CAR\n",
    "\n",
    "print(f\"You have BIKE: {BIKE}\")\n",
    "print(f\"You have CAR: {CAR}\")\n",
    "print(f\"You can travel 100 KMs: {TRAVEL_100_KM}\\n\")"
   ]
  },
  {
   "cell_type": "code",
   "execution_count": 27,
   "id": "da7d933d",
   "metadata": {},
   "outputs": [
    {
     "name": "stdout",
     "output_type": "stream",
     "text": [
      "You have BIKE: False\n",
      "You have CAR: False\n",
      "You can travel 100 KMs: False\n",
      "\n"
     ]
    }
   ],
   "source": [
    "# Block Four\n",
    "BIKE = False\n",
    "CAR = False\n",
    "TRAVEL_100_KM = BIKE or CAR\n",
    "\n",
    "print(f\"You have BIKE: {BIKE}\")\n",
    "print(f\"You have CAR: {CAR}\")\n",
    "print(f\"You can travel 100 KMs: {TRAVEL_100_KM}\\n\")"
   ]
  },
  {
   "cell_type": "code",
   "execution_count": 28,
   "id": "2f23768c",
   "metadata": {},
   "outputs": [],
   "source": [
    "def travel_or_not(BIKE, CAR):\n",
    "    TRAVEL_100_KM = BIKE or CAR\n",
    "\n",
    "    print(f\"You have BIKE: {BIKE}\")\n",
    "    print(f\"You have CAR: {CAR}\")\n",
    "    print(f\"You can travel 100 KMs: {TRAVEL_100_KM}\\n\")\n"
   ]
  },
  {
   "cell_type": "code",
   "execution_count": 34,
   "id": "c30e0cce",
   "metadata": {},
   "outputs": [
    {
     "name": "stdout",
     "output_type": "stream",
     "text": [
      "You have BIKE: Ruchi\n",
      "You have CAR: Shanker\n",
      "You can travel 100 KMs: Ruchi\n",
      "\n"
     ]
    }
   ],
   "source": [
    "travel_or_not('Ruchi', 'Shanker')"
   ]
  },
  {
   "cell_type": "code",
   "execution_count": 30,
   "id": "d40bfec3",
   "metadata": {},
   "outputs": [
    {
     "name": "stdout",
     "output_type": "stream",
     "text": [
      "You have BIKE: True\n",
      "You have CAR: False\n",
      "You can travel 100 KMs: True\n",
      "\n"
     ]
    }
   ],
   "source": [
    "travel_or_not(True, False)"
   ]
  },
  {
   "cell_type": "code",
   "execution_count": 31,
   "id": "5769daec",
   "metadata": {},
   "outputs": [
    {
     "name": "stdout",
     "output_type": "stream",
     "text": [
      "You have BIKE: False\n",
      "You have CAR: False\n",
      "You can travel 100 KMs: False\n",
      "\n"
     ]
    }
   ],
   "source": [
    "travel_or_not(False, False)"
   ]
  },
  {
   "cell_type": "code",
   "execution_count": 37,
   "id": "fb7dee65",
   "metadata": {},
   "outputs": [],
   "source": [
    "def travel_or_not(BIKE='Ruchi', CAR='radhe'): # Default Argument\n",
    "    TRAVEL_100_KM = BIKE or CAR\n",
    "\n",
    "    print(f\"You have BIKE: {BIKE}\")\n",
    "    print(f\"You have CAR: {CAR}\")\n",
    "    print(f\"You can travel 100 KMs: {TRAVEL_100_KM}\\n\")"
   ]
  },
  {
   "cell_type": "code",
   "execution_count": 38,
   "id": "4e8393a9",
   "metadata": {},
   "outputs": [
    {
     "name": "stdout",
     "output_type": "stream",
     "text": [
      "You have BIKE: Ruchi\n",
      "You have CAR: radhe\n",
      "You can travel 100 KMs: Ruchi\n",
      "\n"
     ]
    }
   ],
   "source": [
    "travel_or_not()"
   ]
  },
  {
   "cell_type": "code",
   "execution_count": 39,
   "id": "bd9c5274",
   "metadata": {},
   "outputs": [],
   "source": [
    "def travel_or_not(BIKE, CAR): # Default Argument\n",
    "    TRAVEL_100_KM = BIKE or CAR\n",
    "\n",
    "    print(f\"You have BIKE: {BIKE}\")\n",
    "    print(f\"You have CAR: {CAR}\")\n",
    "    print(f\"You can travel 100 KMs: {TRAVEL_100_KM}\\n\")"
   ]
  },
  {
   "cell_type": "code",
   "execution_count": 41,
   "id": "30222059",
   "metadata": {},
   "outputs": [
    {
     "name": "stdout",
     "output_type": "stream",
     "text": [
      "You have BIKE: Jesus\n",
      "You have CAR: joan\n",
      "You can travel 100 KMs: Jesus\n",
      "\n"
     ]
    }
   ],
   "source": [
    "travel_or_not('Jesus', 'joan')"
   ]
  },
  {
   "cell_type": "code",
   "execution_count": 42,
   "id": "ee198b6e",
   "metadata": {},
   "outputs": [],
   "source": [
    "def travel_or_not(BIKE='Ruchi', CAR='radhe'): # Default Argument\n",
    "    TRAVEL_100_KM = BIKE or CAR\n",
    "\n",
    "    print(f\"You have BIKE: {BIKE}\")\n",
    "    print(f\"You have CAR: {CAR}\")\n",
    "    print(f\"You can travel 100 KMs: {TRAVEL_100_KM}\\n\")"
   ]
  },
  {
   "cell_type": "code",
   "execution_count": 43,
   "id": "2fbbe9a5",
   "metadata": {},
   "outputs": [
    {
     "name": "stdout",
     "output_type": "stream",
     "text": [
      "You have BIKE: Ruchi\n",
      "You have CAR: radhe\n",
      "You can travel 100 KMs: Ruchi\n",
      "\n"
     ]
    }
   ],
   "source": [
    "travel_or_not()"
   ]
  },
  {
   "cell_type": "code",
   "execution_count": 44,
   "id": "d4069f54",
   "metadata": {},
   "outputs": [
    {
     "name": "stdout",
     "output_type": "stream",
     "text": [
      "You have BIKE: Big\n",
      "You have CAR: Ban\n",
      "You can travel 100 KMs: Big\n",
      "\n"
     ]
    }
   ],
   "source": [
    "travel_or_not(\"Big\", \"Ban\") # overriding the default arguments by passing our value"
   ]
  },
  {
   "cell_type": "code",
   "execution_count": null,
   "id": "4b1daec4",
   "metadata": {},
   "outputs": [],
   "source": []
  },
  {
   "cell_type": "code",
   "execution_count": null,
   "id": "4656e7a7",
   "metadata": {},
   "outputs": [],
   "source": []
  },
  {
   "cell_type": "code",
   "execution_count": null,
   "id": "1027d2c3",
   "metadata": {},
   "outputs": [],
   "source": []
  },
  {
   "cell_type": "code",
   "execution_count": null,
   "id": "08149854",
   "metadata": {},
   "outputs": [],
   "source": []
  },
  {
   "cell_type": "code",
   "execution_count": null,
   "id": "9a9611bb",
   "metadata": {},
   "outputs": [],
   "source": []
  },
  {
   "cell_type": "code",
   "execution_count": null,
   "id": "9fb4610b",
   "metadata": {},
   "outputs": [],
   "source": []
  },
  {
   "cell_type": "code",
   "execution_count": null,
   "id": "80f1829e",
   "metadata": {},
   "outputs": [],
   "source": []
  },
  {
   "cell_type": "code",
   "execution_count": null,
   "id": "bbfcef8f",
   "metadata": {},
   "outputs": [],
   "source": []
  },
  {
   "cell_type": "code",
   "execution_count": null,
   "id": "3177607e",
   "metadata": {},
   "outputs": [],
   "source": []
  },
  {
   "cell_type": "code",
   "execution_count": null,
   "id": "248faaba",
   "metadata": {},
   "outputs": [],
   "source": []
  },
  {
   "cell_type": "code",
   "execution_count": null,
   "id": "0ca3ac39",
   "metadata": {},
   "outputs": [],
   "source": []
  },
  {
   "cell_type": "code",
   "execution_count": null,
   "id": "07eefa15",
   "metadata": {},
   "outputs": [],
   "source": []
  },
  {
   "cell_type": "code",
   "execution_count": null,
   "id": "e55143d5",
   "metadata": {},
   "outputs": [],
   "source": []
  },
  {
   "cell_type": "code",
   "execution_count": null,
   "id": "d03ee404",
   "metadata": {},
   "outputs": [],
   "source": []
  },
  {
   "cell_type": "code",
   "execution_count": null,
   "id": "b7f9bdc3",
   "metadata": {},
   "outputs": [],
   "source": []
  },
  {
   "cell_type": "code",
   "execution_count": null,
   "id": "2d940a42",
   "metadata": {},
   "outputs": [],
   "source": []
  },
  {
   "cell_type": "code",
   "execution_count": null,
   "id": "2c1e2947",
   "metadata": {},
   "outputs": [],
   "source": []
  },
  {
   "cell_type": "code",
   "execution_count": null,
   "id": "cdea2e4a",
   "metadata": {},
   "outputs": [],
   "source": []
  },
  {
   "cell_type": "code",
   "execution_count": null,
   "id": "5de9be87",
   "metadata": {},
   "outputs": [],
   "source": []
  },
  {
   "cell_type": "code",
   "execution_count": null,
   "id": "beb4ca0a",
   "metadata": {},
   "outputs": [],
   "source": []
  },
  {
   "cell_type": "code",
   "execution_count": null,
   "id": "debdf72b",
   "metadata": {},
   "outputs": [],
   "source": []
  },
  {
   "cell_type": "code",
   "execution_count": null,
   "id": "67a20aab",
   "metadata": {},
   "outputs": [],
   "source": []
  },
  {
   "cell_type": "code",
   "execution_count": null,
   "id": "9734a506",
   "metadata": {},
   "outputs": [],
   "source": []
  },
  {
   "cell_type": "code",
   "execution_count": null,
   "id": "db3538f3",
   "metadata": {},
   "outputs": [],
   "source": []
  },
  {
   "cell_type": "code",
   "execution_count": null,
   "id": "e0af988d",
   "metadata": {},
   "outputs": [],
   "source": []
  }
 ],
 "metadata": {
  "kernelspec": {
   "display_name": "Python 3 (ipykernel)",
   "language": "python",
   "name": "python3"
  },
  "language_info": {
   "codemirror_mode": {
    "name": "ipython",
    "version": 3
   },
   "file_extension": ".py",
   "mimetype": "text/x-python",
   "name": "python",
   "nbconvert_exporter": "python",
   "pygments_lexer": "ipython3",
   "version": "3.11.4"
  }
 },
 "nbformat": 4,
 "nbformat_minor": 5
}
